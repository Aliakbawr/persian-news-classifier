{
  "nbformat": 4,
  "nbformat_minor": 0,
  "metadata": {
    "colab": {
      "provenance": []
    },
    "kernelspec": {
      "name": "python3",
      "display_name": "Python 3"
    },
    "language_info": {
      "name": "python"
    }
  },
  "cells": [
    {
      "cell_type": "markdown",
      "source": [
        " Load Libraries"
      ],
      "metadata": {
        "id": "qHZKw9v45XSi"
      }
    },
    {
      "cell_type": "code",
      "source": [
        "import pandas as pd\n",
        "import re\n",
        "from hazm import Normalizer, word_tokenize, stopwords_list, Lemmatizer\n",
        "from sklearn.feature_extraction.text import TfidfVectorizer\n",
        "from sklearn.model_selection import train_test_split, GridSearchCV\n",
        "from sklearn.svm import LinearSVC\n",
        "from sklearn.metrics import classification_report, confusion_matrix\n",
        "from imblearn.over_sampling import SMOTE\n",
        "import matplotlib.pyplot as plt\n",
        "import seaborn as sns"
      ],
      "metadata": {
        "id": "yYYh9M7ExoAJ"
      },
      "execution_count": 29,
      "outputs": []
    },
    {
      "cell_type": "markdown",
      "source": [
        " Load and preprocess dataset"
      ],
      "metadata": {
        "id": "YtzJBoiC5U2C"
      }
    },
    {
      "cell_type": "code",
      "source": [
        "df = pd.read_csv(\"/content/drive/MyDrive/projects/Persian-classifier/data/main_news.csv\")\n",
        "print(df.shape)\n",
        "print(df.info())\n",
        "df.head()"
      ],
      "metadata": {
        "colab": {
          "base_uri": "https://localhost:8080/",
          "height": 496
        },
        "id": "NcB98RSix6sJ",
        "outputId": "8cf64a59-1cca-4ac4-d9ec-757caff304eb"
      },
      "execution_count": 31,
      "outputs": [
        {
          "output_type": "stream",
          "name": "stdout",
          "text": [
            "(13457, 7)\n",
            "<class 'pandas.core.frame.DataFrame'>\n",
            "RangeIndex: 13457 entries, 0 to 13456\n",
            "Data columns (total 7 columns):\n",
            " #   Column       Non-Null Count  Dtype \n",
            "---  ------       --------------  ----- \n",
            " 0   Unnamed: 0   13457 non-null  int64 \n",
            " 1   title        13457 non-null  object\n",
            " 2   description  13457 non-null  object\n",
            " 3   image        13402 non-null  object\n",
            " 4   site         13457 non-null  object\n",
            " 5   link         13457 non-null  object\n",
            " 6   tags         13455 non-null  object\n",
            "dtypes: int64(1), object(6)\n",
            "memory usage: 736.1+ KB\n",
            "None\n"
          ]
        },
        {
          "output_type": "execute_result",
          "data": {
            "text/plain": [
              "   Unnamed: 0                                              title  \\\n",
              "0           0  روایتی از تحصیل زیرسقف‌های لرزان و سرمای سوزان...   \n",
              "1           1  انقلابی سرشناس بحرین در گفت‌وگو با تسنیم: مردم...   \n",
              "2           2  ‌زندگی مردم در شهر قم ‌جریان دارد / پیشگیری در...   \n",
              "3           3  درگیر شایعات نشوید؛ نتیجه آزمایش افراد مشکوک ب...   \n",
              "4           4  واکنش &quot;پروفسور کرمی&quot; به دروغ‌پراکنی ...   \n",
              "\n",
              "                                         description  \\\n",
              "0  گروه استان‌ها- دانش‌آموزان مدرسه روستای کَهنان...   \n",
              "1  گروه استان‌ها ــ انقلابی سرشناس بحرین با بیان ...   \n",
              "2  گروه استان‌ها ــ با اعلام شیوع ویروس کرونا در ...   \n",
              "3  گروه استان‌ها- رئیس دانشگاه علوم پزشکی استان ا...   \n",
              "4  یک متخصص بیوتکنولوژی پزشکی با بیان اینکه مرگ‌و...   \n",
              "\n",
              "                                               image    site  \\\n",
              "0  https://newsmedia.tasnimnews.com/Tasnim/Upload...  tasnim   \n",
              "1  https://newsmedia.tasnimnews.com/Tasnim/Upload...  tasnim   \n",
              "2  https://newsmedia.tasnimnews.com/Tasnim/Upload...  tasnim   \n",
              "3  https://newsmedia.tasnimnews.com/Tasnim/Upload...  tasnim   \n",
              "4  https://newsmedia.tasnimnews.com/Tasnim/Upload...  tasnim   \n",
              "\n",
              "                    link     tags  \n",
              "0  https://tn.ai/2205110  استانها  \n",
              "1  https://tn.ai/2206602  استانها  \n",
              "2  https://tn.ai/2210511  استانها  \n",
              "3  https://tn.ai/2210539  استانها  \n",
              "4  https://tn.ai/2210606  اجتماعی  "
            ],
            "text/html": [
              "\n",
              "  <div id=\"df-4739ecbd-ea06-4950-87ce-4c3e9e11ecf4\" class=\"colab-df-container\">\n",
              "    <div>\n",
              "<style scoped>\n",
              "    .dataframe tbody tr th:only-of-type {\n",
              "        vertical-align: middle;\n",
              "    }\n",
              "\n",
              "    .dataframe tbody tr th {\n",
              "        vertical-align: top;\n",
              "    }\n",
              "\n",
              "    .dataframe thead th {\n",
              "        text-align: right;\n",
              "    }\n",
              "</style>\n",
              "<table border=\"1\" class=\"dataframe\">\n",
              "  <thead>\n",
              "    <tr style=\"text-align: right;\">\n",
              "      <th></th>\n",
              "      <th>Unnamed: 0</th>\n",
              "      <th>title</th>\n",
              "      <th>description</th>\n",
              "      <th>image</th>\n",
              "      <th>site</th>\n",
              "      <th>link</th>\n",
              "      <th>tags</th>\n",
              "    </tr>\n",
              "  </thead>\n",
              "  <tbody>\n",
              "    <tr>\n",
              "      <th>0</th>\n",
              "      <td>0</td>\n",
              "      <td>روایتی از تحصیل زیرسقف‌های لرزان و سرمای سوزان...</td>\n",
              "      <td>گروه استان‌ها- دانش‌آموزان مدرسه روستای کَهنان...</td>\n",
              "      <td>https://newsmedia.tasnimnews.com/Tasnim/Upload...</td>\n",
              "      <td>tasnim</td>\n",
              "      <td>https://tn.ai/2205110</td>\n",
              "      <td>استانها</td>\n",
              "    </tr>\n",
              "    <tr>\n",
              "      <th>1</th>\n",
              "      <td>1</td>\n",
              "      <td>انقلابی سرشناس بحرین در گفت‌وگو با تسنیم: مردم...</td>\n",
              "      <td>گروه استان‌ها ــ انقلابی سرشناس بحرین با بیان ...</td>\n",
              "      <td>https://newsmedia.tasnimnews.com/Tasnim/Upload...</td>\n",
              "      <td>tasnim</td>\n",
              "      <td>https://tn.ai/2206602</td>\n",
              "      <td>استانها</td>\n",
              "    </tr>\n",
              "    <tr>\n",
              "      <th>2</th>\n",
              "      <td>2</td>\n",
              "      <td>‌زندگی مردم در شهر قم ‌جریان دارد / پیشگیری در...</td>\n",
              "      <td>گروه استان‌ها ــ با اعلام شیوع ویروس کرونا در ...</td>\n",
              "      <td>https://newsmedia.tasnimnews.com/Tasnim/Upload...</td>\n",
              "      <td>tasnim</td>\n",
              "      <td>https://tn.ai/2210511</td>\n",
              "      <td>استانها</td>\n",
              "    </tr>\n",
              "    <tr>\n",
              "      <th>3</th>\n",
              "      <td>3</td>\n",
              "      <td>درگیر شایعات نشوید؛ نتیجه آزمایش افراد مشکوک ب...</td>\n",
              "      <td>گروه استان‌ها- رئیس دانشگاه علوم پزشکی استان ا...</td>\n",
              "      <td>https://newsmedia.tasnimnews.com/Tasnim/Upload...</td>\n",
              "      <td>tasnim</td>\n",
              "      <td>https://tn.ai/2210539</td>\n",
              "      <td>استانها</td>\n",
              "    </tr>\n",
              "    <tr>\n",
              "      <th>4</th>\n",
              "      <td>4</td>\n",
              "      <td>واکنش &amp;quot;پروفسور کرمی&amp;quot; به دروغ‌پراکنی ...</td>\n",
              "      <td>یک متخصص بیوتکنولوژی پزشکی با بیان اینکه مرگ‌و...</td>\n",
              "      <td>https://newsmedia.tasnimnews.com/Tasnim/Upload...</td>\n",
              "      <td>tasnim</td>\n",
              "      <td>https://tn.ai/2210606</td>\n",
              "      <td>اجتماعی</td>\n",
              "    </tr>\n",
              "  </tbody>\n",
              "</table>\n",
              "</div>\n",
              "    <div class=\"colab-df-buttons\">\n",
              "\n",
              "  <div class=\"colab-df-container\">\n",
              "    <button class=\"colab-df-convert\" onclick=\"convertToInteractive('df-4739ecbd-ea06-4950-87ce-4c3e9e11ecf4')\"\n",
              "            title=\"Convert this dataframe to an interactive table.\"\n",
              "            style=\"display:none;\">\n",
              "\n",
              "  <svg xmlns=\"http://www.w3.org/2000/svg\" height=\"24px\" viewBox=\"0 -960 960 960\">\n",
              "    <path d=\"M120-120v-720h720v720H120Zm60-500h600v-160H180v160Zm220 220h160v-160H400v160Zm0 220h160v-160H400v160ZM180-400h160v-160H180v160Zm440 0h160v-160H620v160ZM180-180h160v-160H180v160Zm440 0h160v-160H620v160Z\"/>\n",
              "  </svg>\n",
              "    </button>\n",
              "\n",
              "  <style>\n",
              "    .colab-df-container {\n",
              "      display:flex;\n",
              "      gap: 12px;\n",
              "    }\n",
              "\n",
              "    .colab-df-convert {\n",
              "      background-color: #E8F0FE;\n",
              "      border: none;\n",
              "      border-radius: 50%;\n",
              "      cursor: pointer;\n",
              "      display: none;\n",
              "      fill: #1967D2;\n",
              "      height: 32px;\n",
              "      padding: 0 0 0 0;\n",
              "      width: 32px;\n",
              "    }\n",
              "\n",
              "    .colab-df-convert:hover {\n",
              "      background-color: #E2EBFA;\n",
              "      box-shadow: 0px 1px 2px rgba(60, 64, 67, 0.3), 0px 1px 3px 1px rgba(60, 64, 67, 0.15);\n",
              "      fill: #174EA6;\n",
              "    }\n",
              "\n",
              "    .colab-df-buttons div {\n",
              "      margin-bottom: 4px;\n",
              "    }\n",
              "\n",
              "    [theme=dark] .colab-df-convert {\n",
              "      background-color: #3B4455;\n",
              "      fill: #D2E3FC;\n",
              "    }\n",
              "\n",
              "    [theme=dark] .colab-df-convert:hover {\n",
              "      background-color: #434B5C;\n",
              "      box-shadow: 0px 1px 3px 1px rgba(0, 0, 0, 0.15);\n",
              "      filter: drop-shadow(0px 1px 2px rgba(0, 0, 0, 0.3));\n",
              "      fill: #FFFFFF;\n",
              "    }\n",
              "  </style>\n",
              "\n",
              "    <script>\n",
              "      const buttonEl =\n",
              "        document.querySelector('#df-4739ecbd-ea06-4950-87ce-4c3e9e11ecf4 button.colab-df-convert');\n",
              "      buttonEl.style.display =\n",
              "        google.colab.kernel.accessAllowed ? 'block' : 'none';\n",
              "\n",
              "      async function convertToInteractive(key) {\n",
              "        const element = document.querySelector('#df-4739ecbd-ea06-4950-87ce-4c3e9e11ecf4');\n",
              "        const dataTable =\n",
              "          await google.colab.kernel.invokeFunction('convertToInteractive',\n",
              "                                                    [key], {});\n",
              "        if (!dataTable) return;\n",
              "\n",
              "        const docLinkHtml = 'Like what you see? Visit the ' +\n",
              "          '<a target=\"_blank\" href=https://colab.research.google.com/notebooks/data_table.ipynb>data table notebook</a>'\n",
              "          + ' to learn more about interactive tables.';\n",
              "        element.innerHTML = '';\n",
              "        dataTable['output_type'] = 'display_data';\n",
              "        await google.colab.output.renderOutput(dataTable, element);\n",
              "        const docLink = document.createElement('div');\n",
              "        docLink.innerHTML = docLinkHtml;\n",
              "        element.appendChild(docLink);\n",
              "      }\n",
              "    </script>\n",
              "  </div>\n",
              "\n",
              "\n",
              "    <div id=\"df-46bb92cf-bd89-4873-a03c-62120f05bb92\">\n",
              "      <button class=\"colab-df-quickchart\" onclick=\"quickchart('df-46bb92cf-bd89-4873-a03c-62120f05bb92')\"\n",
              "                title=\"Suggest charts\"\n",
              "                style=\"display:none;\">\n",
              "\n",
              "<svg xmlns=\"http://www.w3.org/2000/svg\" height=\"24px\"viewBox=\"0 0 24 24\"\n",
              "     width=\"24px\">\n",
              "    <g>\n",
              "        <path d=\"M19 3H5c-1.1 0-2 .9-2 2v14c0 1.1.9 2 2 2h14c1.1 0 2-.9 2-2V5c0-1.1-.9-2-2-2zM9 17H7v-7h2v7zm4 0h-2V7h2v10zm4 0h-2v-4h2v4z\"/>\n",
              "    </g>\n",
              "</svg>\n",
              "      </button>\n",
              "\n",
              "<style>\n",
              "  .colab-df-quickchart {\n",
              "      --bg-color: #E8F0FE;\n",
              "      --fill-color: #1967D2;\n",
              "      --hover-bg-color: #E2EBFA;\n",
              "      --hover-fill-color: #174EA6;\n",
              "      --disabled-fill-color: #AAA;\n",
              "      --disabled-bg-color: #DDD;\n",
              "  }\n",
              "\n",
              "  [theme=dark] .colab-df-quickchart {\n",
              "      --bg-color: #3B4455;\n",
              "      --fill-color: #D2E3FC;\n",
              "      --hover-bg-color: #434B5C;\n",
              "      --hover-fill-color: #FFFFFF;\n",
              "      --disabled-bg-color: #3B4455;\n",
              "      --disabled-fill-color: #666;\n",
              "  }\n",
              "\n",
              "  .colab-df-quickchart {\n",
              "    background-color: var(--bg-color);\n",
              "    border: none;\n",
              "    border-radius: 50%;\n",
              "    cursor: pointer;\n",
              "    display: none;\n",
              "    fill: var(--fill-color);\n",
              "    height: 32px;\n",
              "    padding: 0;\n",
              "    width: 32px;\n",
              "  }\n",
              "\n",
              "  .colab-df-quickchart:hover {\n",
              "    background-color: var(--hover-bg-color);\n",
              "    box-shadow: 0 1px 2px rgba(60, 64, 67, 0.3), 0 1px 3px 1px rgba(60, 64, 67, 0.15);\n",
              "    fill: var(--button-hover-fill-color);\n",
              "  }\n",
              "\n",
              "  .colab-df-quickchart-complete:disabled,\n",
              "  .colab-df-quickchart-complete:disabled:hover {\n",
              "    background-color: var(--disabled-bg-color);\n",
              "    fill: var(--disabled-fill-color);\n",
              "    box-shadow: none;\n",
              "  }\n",
              "\n",
              "  .colab-df-spinner {\n",
              "    border: 2px solid var(--fill-color);\n",
              "    border-color: transparent;\n",
              "    border-bottom-color: var(--fill-color);\n",
              "    animation:\n",
              "      spin 1s steps(1) infinite;\n",
              "  }\n",
              "\n",
              "  @keyframes spin {\n",
              "    0% {\n",
              "      border-color: transparent;\n",
              "      border-bottom-color: var(--fill-color);\n",
              "      border-left-color: var(--fill-color);\n",
              "    }\n",
              "    20% {\n",
              "      border-color: transparent;\n",
              "      border-left-color: var(--fill-color);\n",
              "      border-top-color: var(--fill-color);\n",
              "    }\n",
              "    30% {\n",
              "      border-color: transparent;\n",
              "      border-left-color: var(--fill-color);\n",
              "      border-top-color: var(--fill-color);\n",
              "      border-right-color: var(--fill-color);\n",
              "    }\n",
              "    40% {\n",
              "      border-color: transparent;\n",
              "      border-right-color: var(--fill-color);\n",
              "      border-top-color: var(--fill-color);\n",
              "    }\n",
              "    60% {\n",
              "      border-color: transparent;\n",
              "      border-right-color: var(--fill-color);\n",
              "    }\n",
              "    80% {\n",
              "      border-color: transparent;\n",
              "      border-right-color: var(--fill-color);\n",
              "      border-bottom-color: var(--fill-color);\n",
              "    }\n",
              "    90% {\n",
              "      border-color: transparent;\n",
              "      border-bottom-color: var(--fill-color);\n",
              "    }\n",
              "  }\n",
              "</style>\n",
              "\n",
              "      <script>\n",
              "        async function quickchart(key) {\n",
              "          const quickchartButtonEl =\n",
              "            document.querySelector('#' + key + ' button');\n",
              "          quickchartButtonEl.disabled = true;  // To prevent multiple clicks.\n",
              "          quickchartButtonEl.classList.add('colab-df-spinner');\n",
              "          try {\n",
              "            const charts = await google.colab.kernel.invokeFunction(\n",
              "                'suggestCharts', [key], {});\n",
              "          } catch (error) {\n",
              "            console.error('Error during call to suggestCharts:', error);\n",
              "          }\n",
              "          quickchartButtonEl.classList.remove('colab-df-spinner');\n",
              "          quickchartButtonEl.classList.add('colab-df-quickchart-complete');\n",
              "        }\n",
              "        (() => {\n",
              "          let quickchartButtonEl =\n",
              "            document.querySelector('#df-46bb92cf-bd89-4873-a03c-62120f05bb92 button');\n",
              "          quickchartButtonEl.style.display =\n",
              "            google.colab.kernel.accessAllowed ? 'block' : 'none';\n",
              "        })();\n",
              "      </script>\n",
              "    </div>\n",
              "    </div>\n",
              "  </div>\n"
            ],
            "application/vnd.google.colaboratory.intrinsic+json": {
              "type": "dataframe",
              "variable_name": "df",
              "summary": "{\n  \"name\": \"df\",\n  \"rows\": 13457,\n  \"fields\": [\n    {\n      \"column\": \"Unnamed: 0\",\n      \"properties\": {\n        \"dtype\": \"number\",\n        \"std\": 3884,\n        \"min\": 0,\n        \"max\": 13456,\n        \"num_unique_values\": 13457,\n        \"samples\": [\n          3708,\n          11862,\n          9566\n        ],\n        \"semantic_type\": \"\",\n        \"description\": \"\"\n      }\n    },\n    {\n      \"column\": \"title\",\n      \"properties\": {\n        \"dtype\": \"string\",\n        \"num_unique_values\": 13448,\n        \"samples\": [\n          \"\\u062f\\u0627\\u0646\\u0634\\u0645\\u0646\\u062f \\u0627\\u06cc\\u0631\\u0627\\u0646\\u06cc \\u0628\\u0627\\u0632\\u062f\\u0627\\u0634\\u062a\\u06cc \\u062f\\u0631 \\u0622\\u0645\\u0631\\u06cc\\u06a9\\u0627 \\u00ab\\u06a9\\u0631\\u0648\\u0646\\u0627 \\u06af\\u0631\\u0641\\u062a\\u0647 \\u0627\\u0633\\u062a\\u00bb\",\n          \"\\u062a\\u0638\\u0627\\u0647\\u0631\\u06a9\\u0646\\u0646\\u062f\\u06af\\u0627\\u0646 \\u0648 \\u0645\\u0639\\u062a\\u0631\\u0636\\u0627\\u0646 \\u062f\\u0631 \\u067e\\u0627\\u0631\\u06cc\\u0633 \\u0648 \\u0644\\u0646\\u062f\\u0646 \\u0628\\u0627 \\u067e\\u0644\\u06cc\\u0633 \\u062f\\u0631\\u06af\\u06cc\\u0631 \\u0634\\u062f\\u0646\\u062f\",\n          \"\\u0645\\u0646\\u0627\\u0642\\u0634\\u0647 \\u0622\\u0645\\u0631\\u06cc\\u06a9\\u0627 \\u0648 \\u0686\\u06cc\\u0646 \\u0628\\u0631 \\u0633\\u0631 \\u0645\\u0646\\u0634\\u0627 \\u0648\\u06cc\\u0631\\u0648\\u0633 \\u06a9\\u0631\\u0648\\u0646\\u0627\"\n        ],\n        \"semantic_type\": \"\",\n        \"description\": \"\"\n      }\n    },\n    {\n      \"column\": \"description\",\n      \"properties\": {\n        \"dtype\": \"string\",\n        \"num_unique_values\": 13303,\n        \"samples\": [\n          \"\\u0628\\u0646\\u0627 \\u0628\\u0631 \\u06af\\u0632\\u0627\\u0631\\u0634 \\u0646\\u06cc\\u0648\\u06cc\\u0648\\u0631\\u06a9\\u200c\\u062a\\u0627\\u06cc\\u0645\\u0632\\u060c \\u0627\\u0646\\u0641\\u062c\\u0627\\u0631 \\u0646\\u0637\\u0646\\u0632 \\u0634\\u062f\\u06cc\\u062f\\u062a\\u0631 \\u0627\\u0632 \\u0622\\u0646 \\u0686\\u06cc\\u0632\\u06cc \\u0627\\u0633\\u062a \\u06a9\\u0647 \\u062f\\u0631 \\u06af\\u0632\\u0627\\u0631\\u0634\\u200c\\u0647\\u0627\\u06cc \\u0627\\u0648\\u0644\\u06cc\\u0647 \\u0628\\u0627\\u0632\\u062a\\u0627\\u0628 \\u06cc\\u0627\\u0641\\u062a\\u0647 \\u0627\\u0633\\u062a. \\u062f\\u0631 \\u0627\\u06cc\\u0646 \\u06af\\u0632\\u0627\\u0631\\u0634 \\u0647\\u0645\\u0686\\u0646\\u06cc\\u0646 \\u0622\\u0645\\u062f\\u0647 \\u0627\\u0633\\u062a \\u06a9\\u0647 \\u0645\\u0633\\u0626\\u0648\\u0644\\u06cc\\u062a \\u0627\\u0646\\u0641\\u062c\\u0627\\u0631 \\u06cc\\u0627\\u062f \\u0634\\u062f\\u0647 \\u0628\\u0627 \\u0627\\u0633\\u0631\\u0627\\u0626\\u06cc\\u0644 \\u0628\\u0648\\u062f\\u0647 \\u0648 \\u0627\\u06cc\\u0646 \\u0627\\u0642\\u062f\\u0627\\u0645 \\u0628\\u0627 \\u0627\\u0637\\u0644\\u0627\\u0639 \\u0622\\u0645\\u0631\\u06cc\\u06a9\\u0627 \\u0635\\u0648\\u0631\\u062a \\u06af\\u0631\\u0641\\u062a\\u0647 \\u0627\\u0633\\u062a.\\u06af\\u0645\\u0627\\u0646\\u0647&zwnj;\\u0632\\u0646\\u06cc \\u062f\\u0631\\u0628\\u0627\\u0631\\u0647 \\u0627\\u0646\\u0641\\u062c\\u0627\\u0631 \\u062f\\u0631 \\u062a\\u0627\\u0633\\u06cc\\u0633\\u0627\\u062a \\u0627\\u062a\\u0645\\u06cc \\u0646\\u0637\\u0646\\u0632 \\u0648 \\u0627\\u0628\\u0639\\u0627\\u062f \\u0622\\u0646 \\u0647\\u0645\\u0686\\u0646\\u0627\\u0646 \\u0627\\u062f\\u0627\\u0645\\u0647 \\u062f\\u0627\\u0631\\u062f. \\u062c\\u0645\\u0647\\u0648\\u0631\\u06cc \\u0627\\u0633\\u0644\\u0627\\u0645\\u06cc \\u0627\\u06cc\\u0631\\u0627\\u0646 \\u0627\\u0646\\u0641\\u062c\\u0627\\u0631 \\u0631\\u0648\\u0632 \\u06f1\\u06f2 \\u062a\\u06cc\\u0631\\u0645\\u0627\\u0647 \\u062f\\u0631 \\u062a\\u0627\\u0633\\u06cc\\u0633\\u0627\\u062a \\u0647\\u0633\\u062a\\u0647&zwnj;\\u0627\\u06cc \\u0646\\u0637\\u0646\\u0632 \\u0631\\u0627 \\u062a\\u0627\\u06cc\\u06cc\\u062f \\u06a9\\u0631\\u062f\\u0647 \\u0627\\u0633\\u062a. \\u0645\\u0633\\u0626\\u0648\\u0644\\u0627\\u0646 \\u062c\\u0645\\u0647\\u0648\\u0631\\u06cc \\u0627\\u0633\\u0644\\u0627\\u0645\\u06cc \\u0627\\u06cc\\u0631\\u0627\\u0646 \\u0627\\u0639\\u0644\\u0627\\u0645 \\u06a9\\u0631\\u062f\\u0647&zwnj;\\u0627\\u0646\\u062f \\u06a9\\u0647 \\u0627\\u0637\\u0644\\u0627\\u0639\\u0627\\u062a \\u06a9\\u0627\\u0641\\u06cc \\u062f\\u0631\\u0628\\u0627\\u0631\\u0647 \\u0639\\u0644\\u062a \\u0627\\u06cc\\u0646 \\u0627\\u0646\\u0641\\u062c\\u0627\\u0631 \\u062f\\u0631 \\u0627\\u062e\\u062a\\u06cc\\u0627\\u0631 \\u062f\\u0627\\u0631\\u0646\\u062f\\u060c \\u0627\\u0645\\u0627 \\u062f\\u0631 \\u062d\\u0627\\u0644 \\u062d\\u0627\\u0636\\u0631 \\u0628\\u0646\\u0627 \\u0628\\u0631 \\u0645\\u0635\\u0627\\u0644\\u062d \\u0627\\u0645\\u0646\\u06cc\\u062a\\u06cc \\u0627\\u0632 \\u0627\\u0641\\u0634\\u0627\\u06cc \\u0622\\u0646 \\u062e\\u0648\\u062f\\u062f\\u0627\\u0631\\u06cc \\u0645\\u06cc&zwnj;\\u06a9\\u0646\\u0646\\u062f.\\n\\n\\u062f\\u0631 \\u0647\\u0645\\u06cc\\u0646 \\u0631\\u0627\\u0628\\u0637\\u0647\\u060c \\u0631\\u0648\\u0632\\u0646\\u0627\\u0645\\u0647 &quot;\\u0646\\u06cc\\u0648\\u06cc\\u0648\\u0631\\u06a9 \\u062a\\u0627\\u06cc\\u0645\\u0632&quot; \\u0631\\u0648\\u0632 \\u062c\\u0645\\u0639\\u0647 \\u06f1\\u06f0 \\u0698\\u0648\\u0626\\u06cc\\u0647 (\\u06f2\\u06f0 \\u062a\\u06cc\\u0631) \\u0628\\u0627 \\u0627\\u0646\\u062a\\u0634\\u0627\\u0631 \\u06cc\\u06a9 \\u06af\\u0632\\u0627\\u0631\\u0634 \\u0627\\u062e\\u062a\\u0635\\u0627\\u0635\\u06cc \\u0628\\u0647 \\u0646\\u0642\\u0644 \\u0627\\u0632 \\u062f\\u0648 \\u0645\\u0646\\u0628\\u0639 \\u0627\\u0637\\u0644\\u0627\\u0639\\u0627\\u062a\\u06cc \\u0627\\u0639\\u0644\\u0627\\u0645 \\u06a9\\u0631\\u062f\\u0647 \\u0627\\u0633\\u062a \\u06a9\\u0647 \\u0627\\u0646\\u0641\\u062c\\u0627\\u0631 \\u062f\\u0631 \\u062a\\u0627\\u0633\\u06cc\\u0633\\u0627\\u062a \\u0627\\u062a\\u0645\\u06cc \\u0646\\u0637\\u0646\\u0632 \\u0648 \\u062f\\u0631 \\u0628\\u062e\\u0634 \\u062a\\u0648\\u0644\\u06cc\\u062f \\u0633\\u0627\\u0646\\u062a\\u0631\\u06cc\\u0641\\u0648\\u0698\\u0647\\u0627\\u06cc \\u067e\\u06cc\\u0634\\u0631\\u0641\\u062a\\u0647 \\u0627\\u06cc\\u0646 \\u062a\\u0627\\u0633\\u06cc\\u0633\\u0627\\u062a \\u0645\\u062f\\u062a&zwnj;\\u0647\\u0627 \\u067e\\u06cc\\u0634 \\u0637\\u0631\\u0627\\u062d\\u06cc \\u0634\\u062f\\u0647 \\u0627\\u0633\\u062a.\\n\\n\\u062f\\u0631 \\u0627\\u06cc\\u0646 \\u06af\\u0632\\u0627\\u0631\\u0634 \\u0622\\u0645\\u062f\\u0647 \\u0627\\u0633\\u062a \\u06a9\\u0647 \\u0645\\u0633\\u0626\\u0648\\u0644\\u06cc\\u062a \\u0627\\u06cc\\u0646 \\u0627\\u0646\\u0641\\u062c\\u0627\\u0631 \\u0628\\u0631\\u0639\\u0647\\u062f\\u0647 \\u0627\\u0633\\u0631\\u0627\\u0626\\u06cc\\u0644 \\u0628\\u0648\\u062f\\u0647 \\u0648 \\u0627\\u06cc\\u0646 \\u06a9\\u0634\\u0648\\u0631 \\u0628\\u0627 \\u0627\\u0637\\u0644\\u0627\\u0639 \\u0622\\u0645\\u0631\\u06cc\\u06a9\\u0627 \\u0627\\u0642\\u062f\\u0627\\u0645 \\u0628\\u0647 \\u0622\\u0646 \\u06a9\\u0631\\u062f\\u0647 \\u0627\\u0633\\u062a.\\n\\n\\u0628\\u0647 \\u06a9\\u0627\\u0646\\u0627\\u0644 \\u062f\\u0648\\u06cc\\u0686\\u0647 \\u0648\\u0644\\u0647 \\u0641\\u0627\\u0631\\u0633\\u06cc \\u062f\\u0631 \\u062a\\u0644\\u06af\\u0631\\u0627\\u0645 \\u0628\\u067e\\u06cc\\u0648\\u0646\\u062f\\u06cc\\u062f\\n\\n\\u0646\\u0648\\u06cc\\u0633\\u0646\\u062f\\u06af\\u0627\\u0646 \\u0627\\u06cc\\u0646 \\u06af\\u0632\\u0627\\u0631\\u0634 \\u0628\\u0627 \\u0627\\u0634\\u0627\\u0631\\u0647 \\u0628\\u0647 \\u0627\\u0631\\u0632\\u06cc\\u0627\\u0628\\u06cc \\u06a9\\u0627\\u0631\\u0634\\u0646\\u0627\\u0633\\u0627\\u0646 \\u0627\\u0632 \\u062a\\u0635\\u0627\\u0648\\u06cc\\u0631 \\u0645\\u0627\\u0647\\u0648\\u0627\\u0631\\u0647&zwnj;\\u0627\\u06cc \\u0627\\u0639\\u0644\\u0627\\u0645 \\u06a9\\u0631\\u062f\\u0647&zwnj;\\u0627\\u0646\\u062f \\u06a9\\u0647 \\u0634\\u062f\\u062a \\u0627\\u0646\\u0641\\u062c\\u0627\\u0631 \\u0648 \\u0645\\u06cc\\u0632\\u0627\\u0646 \\u0622\\u0633\\u06cc\\u0628 \\u062f\\u06cc\\u062f\\u06af\\u06cc \\u0627\\u06cc\\u0646 \\u062a\\u0627\\u0633\\u06cc\\u0633\\u0627\\u062a \\u0628\\u0647&zwnj;\\u0645\\u0631\\u0627\\u062a\\u0628 \\u0628\\u06cc\\u0634\\u062a\\u0631 \\u0627\\u0632 \\u0622\\u0646\\u0686\\u0647 \\u0628\\u0648\\u062f\\u0647 \\u06a9\\u0647 \\u062f\\u0631 \\u06af\\u0632\\u0627\\u0631\\u0634&zwnj;\\u0647\\u0627\\u06cc \\u0646\\u062e\\u0633\\u062a\\u06cc\\u0646 \\u0627\\u0639\\u0644\\u0627\\u0645 \\u0634\\u062f\\u0647 \\u0628\\u0648\\u062f.\\n\\n\\u0628\\u0631 \\u0627\\u0633\\u0627\\u0633 \\u062a\\u062d\\u0642\\u06cc\\u0642\\u0627\\u062a \\u0635\\u0648\\u0631\\u062a \\u06af\\u0631\\u0641\\u062a\\u0647 \\u0627\\u0632 \\u0633\\u0648\\u06cc \\u06a9\\u0627\\u0631\\u0634\\u0646\\u0627\\u0633\\u0627\\u0646\\u060c \\u0631\\u0648\\u0646\\u062f \\u062a\\u0648\\u0644\\u06cc\\u062f \\u0633\\u0627\\u0646\\u062a\\u0631\\u06cc\\u0641\\u0648\\u0698\\u0647\\u0627\\u06cc \\u067e\\u06cc\\u0634\\u0631\\u0641\\u062a\\u0647 \\u0627\\u06cc\\u0631\\u0627\\u0646 \\u062f\\u0631 \\u0627\\u062b\\u0631 \\u0627\\u06cc\\u0646 \\u0627\\u0646\\u0641\\u062c\\u0627\\u0631 \\u0645\\u06cc&zwnj;\\u062a\\u0648\\u0627\\u0646\\u062f \\u062f\\u0648 \\u0633\\u0627\\u0644 \\u0628\\u0647 \\u0639\\u0642\\u0628 \\u0628\\u06cc\\u0627\\u0641\\u062a\\u062f.\\n\\n\\u0647\\u0645\\u06cc\\u0646 \\u06af\\u0632\\u0627\\u0631\\u0634 \\u062f\\u0631 \\u0639\\u06cc\\u0646 \\u062d\\u0627\\u0644 \\u062a\\u0627\\u06a9\\u06cc\\u062f \\u06a9\\u0631\\u062f\\u0647 \\u0627\\u0633\\u062a \\u06a9\\u0647 \\u06af\\u0631\\u0686\\u0647 \\u0627\\u06cc\\u0646 \\u062d\\u0645\\u0644\\u0647 \\u0646\\u0645\\u06cc&zwnj;\\u062a\\u0648\\u0627\\u0646\\u062f \\u0645\\u0627\\u0646\\u0639 \\u0627\\u0632 \\u062a\\u0648\\u0644\\u06cc\\u062f \\u0633\\u0627\\u0646\\u062a\\u0631\\u06cc\\u0641\\u0648\\u0698\\u0647\\u0627\\u06cc \\u067e\\u06cc\\u0634\\u0631\\u0641\\u062a\\u0647 \\u062a\\u0648\\u0633\\u0637 \\u0627\\u06cc\\u0631\\u0627\\u0646 \\u0634\\u0648\\u062f\\u060c \\u0627\\u0645\\u0627 \\u0645\\u06cc&zwnj;\\u062a\\u0648\\u0627\\u0646\\u062f \\u062f\\u0631 \\u0628\\u0631\\u0646\\u0627\\u0645\\u0647 \\u0627\\u062a\\u0645\\u06cc \\u0627\\u06cc\\u0631\\u0627\\u0646 \\u0627\\u062e\\u062a\\u0644\\u0627\\u0644 \\u0627\\u06cc\\u062c\\u0627\\u062f \\u06a9\\u0631\\u062f\\u0647 \\u0648 \\u0627\\u062c\\u0631\\u0627\\u06cc \\u0622\\u0646 \\u0631\\u0627 \\u0628\\u06cc\\u0646 \\u06cc\\u06a9 \\u062a\\u0627 \\u062f\\u0648 \\u0633\\u0627\\u0644 \\u0628\\u0647 \\u0639\\u0642\\u0628 \\u0628\\u0631\\u0627\\u0646\\u062f.\\n\\n\\u0627\\u0646\\u0641\\u062c\\u0627\\u0631 \\u0646\\u0637\\u0646\\u0632 \\u0648 \\u0627\\u0633\\u062a\\u0627\\u06a9\\u0633&zwnj;\\u0646\\u062a\\n\\n\\u06af\\u0632\\u0627\\u0631\\u0634\\u06af\\u0631\\u0627\\u0646 \\u0631\\u0648\\u0632\\u0646\\u0627\\u0645\\u0647 \\u0646\\u06cc\\u0648\\u06cc\\u0648\\u0631\\u06a9 \\u062a\\u0627\\u06cc\\u0645\\u0632 \\u062d\\u0645\\u0644\\u0647 \\u0628\\u0647 \\u062a\\u0627\\u0633\\u06cc\\u0633\\u0627\\u062a \\u0627\\u062a\\u0645\\u06cc \\u0646\\u0637\\u0646\\u0632 \\u0631\\u0627 \\u0628\\u0627 \\u062d\\u0645\\u0644\\u0647 \\u0633\\u0627\\u06cc\\u0628\\u0631\\u06cc \\u062f\\u0647 \\u0633\\u0627\\u0644 \\u067e\\u06cc\\u0634 \\u0628\\u0647 \\u062a\\u0627\\u0633\\u06cc\\u0633\\u0627\\u062a \\u0627\\u062a\\u0645\\u06cc \\u0627\\u06cc\\u0631\\u0627\\u0646 \\u0645\\u0642\\u0627\\u06cc\\u0633\\u0647 \\u06a9\\u0631\\u062f\\u0647 \\u0648 \\u0628\\u0647 \\u0646\\u0642\\u0644 \\u0627\\u0632 \\u0645\\u0646\\u0627\\u0628\\u0639 \\u0627\\u0637\\u0644\\u0627\\u0639\\u0627\\u062a\\u06cc \\u0646\\u0648\\u0634\\u062a\\u0647&zwnj;\\u0627\\u0646\\u062f \\u06a9\\u0647 \\u0627\\u0646\\u0641\\u062c\\u0627\\u0631 \\u062f\\u0631 \\u062a\\u0627\\u0633\\u06cc\\u0633\\u0627\\u062a \\u0647\\u0633\\u062a\\u0647&zwnj;\\u0627\\u06cc \\u0646\\u0637\\u0646\\u0632 \\u0646\\u06cc\\u0632 \\u0627\\u0632 \\u0645\\u062f\\u062a&zwnj;\\u0647\\u0627 \\u067e\\u06cc\\u0634 \\u0637\\u0631\\u0627\\u062d\\u06cc \\u0634\\u062f\\u0647 \\u0628\\u0648\\u062f.\\n\\n\\u0646\\u06cc\\u0648\\u06cc\\u0648\\u0631\\u06a9 \\u062a\\u0627\\u06cc\\u0645\\u0632 \\u067e\\u0633 \\u0627\\u0632 \\u0622\\u0646 \\u0628\\u0647 \\u0648\\u0642\\u0648\\u0639 \\u0627\\u0646\\u0641\\u062c\\u0627\\u0631 \\u0631\\u0648\\u0632 \\u062c\\u0645\\u0639\\u0647 \\u06f1\\u06f3 \\u062a\\u06cc\\u0631\\u0645\\u0627\\u0647 \\u062f\\u0631 \\u0634\\u0645\\u0627\\u0644 \\u062a\\u0647\\u0631\\u0627\\u0646 \\u0627\\u0634\\u0627\\u0631\\u0647 \\u06a9\\u0631\\u062f\\u0647 \\u0648 \\u06af\\u0641\\u062a\\u0647 \\u0627\\u0633\\u062a \\u06a9\\u0647 \\u0628\\u0646\\u0627 \\u0628\\u0631 \\u0627\\u0637\\u0644\\u0627\\u0639\\u0627\\u062a \\u0645\\u0646\\u062a\\u0634\\u0631 \\u0634\\u062f\\u0647\\u060c \\u0627\\u062d\\u062a\\u0645\\u0627\\u0644 \\u0645\\u06cc&zwnj;\\u0631\\u0648\\u062f \\u06a9\\u0647 \\u0647\\u062f\\u0641 \\u0627\\u0632 \\u0627\\u06cc\\u0646 \\u0627\\u0646\\u0641\\u062c\\u0627\\u0631 \\u06cc\\u06a9 \\u067e\\u0627\\u06cc\\u06af\\u0627\\u0647 \\u0645\\u0648\\u0634\\u06a9\\u06cc \\u0627\\u06cc\\u0631\\u0627\\u0646 \\u0628\\u0648\\u062f\\u0647 \\u0627\\u0633\\u062a.\\n\\n\\u0647\\u0645\\u06cc\\u0646 \\u0631\\u0648\\u0632\\u0646\\u0627\\u0645\\u0647 \\u062f\\u0631 \\u0627\\u062f\\u0627\\u0645\\u0647 \\u0646\\u0648\\u0634\\u062a\\u0647 \\u0627\\u0633\\u062a \\u06a9\\u0647 \\u062f\\u0631 \\u0635\\u0648\\u0631\\u062a \\u0635\\u062d\\u062a \\u062f\\u0627\\u0634\\u062a\\u0646 \\u0627\\u06cc\\u0646 \\u062e\\u0628\\u0631\\u060c \\u0622\\u0645\\u0631\\u06cc\\u06a9\\u0627 \\u0648 \\u0627\\u0633\\u0631\\u0627\\u0626\\u06cc\\u0644 \\u062f\\u0627\\u0645\\u0646\\u0647 \\u0622\\u0633\\u06cc\\u0628&zwnj;\\u067e\\u0630\\u06cc\\u0631\\u06cc \\u0645\\u0647\\u0645\\u062a\\u0631\\u06cc\\u0646 \\u0645\\u0631\\u0627\\u06a9\\u0632 \\u0627\\u06cc\\u0631\\u0627\\u0646 \\u0631\\u0627 \\u0646\\u0634\\u0627\\u0646 \\u062f\\u0627\\u062f\\u0647&zwnj;\\u0627\\u0646\\u062f. \\u062f\\u0631 \\u0627\\u06cc\\u0646 \\u06af\\u0632\\u0627\\u0631\\u0634 \\u0628\\u0647 \\u062d\\u0641\\u0627\\u0638\\u062a \\u0641\\u0648\\u0642&zwnj;\\u0627\\u0644\\u0639\\u0627\\u062f\\u0647 \\u0627\\u06cc\\u0631\\u0627\\u0646 \\u0627\\u0632 \\u062a\\u0627\\u0633\\u06cc\\u0633\\u0627\\u062a \\u0646\\u0638\\u0627\\u0645\\u06cc \\u0648 \\u0647\\u0633\\u062a\\u0647&zwnj;\\u0627\\u06cc \\u0627\\u0634\\u0627\\u0631\\u0647 \\u0634\\u062f\\u0647 \\u0627\\u0633\\u062a.\\n\\n\\u062f\\u0631 \\u062d\\u0627\\u0644\\u06cc \\u06a9\\u0647 \\u0628\\u0631\\u062e\\u06cc \\u0627\\u0632 \\u0645\\u0646\\u0627\\u0628\\u0639 \\u062e\\u0628\\u0631\\u06cc \\u0627\\u0632 \\u0627\\u0646\\u062a\\u0642\\u0627\\u0644 \\u0628\\u0645\\u0628 \\u0628\\u0647 \\u0645\\u0631\\u06a9\\u0632 \\u062a\\u0648\\u0644\\u06cc\\u062f \\u0633\\u0627\\u0646\\u062a\\u0631\\u06cc\\u0641\\u0648\\u0698\\u0647\\u0627\\u06cc \\u0646\\u0637\\u0646\\u0632 \\u0633\\u062e\\u0646 \\u06af\\u0641\\u062a\\u0647&zwnj;\\u0627\\u0646\\u062f\\u060c \\u062f\\u0631 \\u06af\\u0632\\u0627\\u0631\\u0634 \\u0646\\u06cc\\u0648\\u06cc\\u0648\\u0631\\u06a9 \\u062a\\u0627\\u06cc\\u0645\\u0632 \\u0627\\u062d\\u062a\\u0645\\u0627\\u0644 \\u062d\\u0645\\u0644\\u0647 \\u0633\\u0627\\u06cc\\u0628\\u0631\\u06cc \\u0648 \\u0627\\u06cc\\u062c\\u0627\\u062f \\u0627\\u0646\\u0641\\u062c\\u0627\\u0631 \\u062f\\u0631 \\u0646\\u0632\\u062f\\u06cc\\u06a9\\u06cc \\u0645\\u062e\\u0627\\u0632\\u0646 \\u06af\\u0627\\u0632 \\u0627\\u06cc\\u0646 \\u062a\\u0627\\u0633\\u06cc\\u0633\\u0627\\u062a \\u0645\\u0646\\u062a\\u0641\\u06cc \\u0627\\u0639\\u0644\\u0627\\u0645 \\u0646\\u0634\\u062f\\u0647 \\u0627\\u0633\\u062a.\\n\\n\\u062f\\u0631 \\u0627\\u06cc\\u0646 \\u06af\\u0632\\u0627\\u0631\\u0634 \\u0647\\u0645\\u0686\\u0646\\u06cc\\u0646 \\u0622\\u0645\\u062f\\u0647 \\u0627\\u0633\\u062a \\u06a9\\u0647 \\u0627\\u0646\\u062c\\u0627\\u0645 \\u0686\\u0646\\u06cc\\u0646 \\u062d\\u0645\\u0644\\u0627\\u062a\\u06cc \\u0648 \\u0627\\u0632 \\u062c\\u0645\\u0644\\u0647 \\u062d\\u0645\\u0644\\u0647 \\u067e\\u0647\\u067e\\u0627\\u062f\\u06cc \\u0628\\u0647 \\u062e\\u0648\\u062f\\u0631\\u0648\\u06cc \\u062d\\u0627\\u0645\\u0644 \\u0642\\u0627\\u0633\\u0645 \\u0633\\u0644\\u06cc\\u0645\\u0627\\u0646\\u06cc\\u060c \\u0641\\u0631\\u0645\\u0627\\u0646\\u062f\\u0647 \\u0633\\u067e\\u0627\\u0647 \\u0642\\u062f\\u0633 \\u0648 \\u0647\\u0645\\u0686\\u0646\\u06cc\\u0646 \\u062f\\u0633\\u062a\\u06cc\\u0627\\u0628\\u06cc \\u0645\\u0648\\u0633\\u0627\\u062f\\u060c \\u0633\\u0627\\u0632\\u0645\\u0627\\u0646 \\u0627\\u0637\\u0644\\u0627\\u0639\\u0627\\u062a \\u0627\\u0633\\u0631\\u0627\\u0626\\u06cc\\u0644\\u060c \\u0628\\u0647 \\u062f\\u0647&zwnj;\\u0647\\u0627 \\u0647\\u0632\\u0627\\u0631 \\u0633\\u0646\\u062f \\u0645\\u0631\\u0628\\u0648\\u0637 \\u0628\\u0647 \\u0641\\u0639\\u0627\\u0644\\u06cc\\u062a&zwnj;\\u0647\\u0627\\u06cc \\u0647\\u0633\\u062a\\u0647&zwnj;\\u0627\\u06cc \\u0627\\u06cc\\u0631\\u0627\\u0646 \\u0628\\u062f\\u0648\\u0646 \\u0647\\u0645\\u06a9\\u0627\\u0631\\u06cc \\u0646\\u06cc\\u0631\\u0648\\u0647\\u0627\\u06cc\\u06cc \\u062f\\u0631 \\u062f\\u0627\\u062e\\u0644 \\u0627\\u06cc\\u0646 \\u06a9\\u0634\\u0648\\u0631 \\u0645\\u0645\\u06a9\\u0646 \\u0646\\u0628\\u0648\\u062f\\u0647 \\u0627\\u0633\\u062a.\\n\\n\\u0628\\u0647 \\u06a9\\u0627\\u0646\\u0627\\u0644 \\u0627\\u06cc\\u0646\\u0633\\u062a\\u0627\\u06af\\u0631\\u0627\\u0645 \\u062f\\u0648\\u06cc\\u0686\\u0647 \\u0648\\u0644\\u0647 \\u0641\\u0627\\u0631\\u0633\\u06cc \\u0628\\u067e\\u06cc\\u0648\\u0646\\u062f\\u06cc\\u062f\\n\\n\\u0646\\u06cc\\u0648\\u06cc\\u0648\\u0631\\u06a9 \\u062a\\u0627\\u06cc\\u0645\\u0632 \\u062f\\u0631 \\u0639\\u06cc\\u0646 \\u062d\\u0627\\u0644 \\u0628\\u0647 \\u0627\\u062d\\u062a\\u0645\\u0627\\u0644 \\u0648\\u0627\\u06a9\\u0646\\u0634 \\u0627\\u06cc\\u0631\\u0627\\u0646 \\u062f\\u0631 \\u0622\\u0633\\u062a\\u0627\\u0646\\u0647 \\u0628\\u0631\\u06af\\u0632\\u0627\\u0631\\u06cc \\u0627\\u0646\\u062a\\u062e\\u0627\\u0628\\u0627\\u062a \\u0631\\u06cc\\u0627\\u0633\\u062a \\u062c\\u0645\\u0647\\u0648\\u0631\\u06cc \\u0622\\u0645\\u0631\\u06cc\\u06a9\\u0627 \\u0627\\u0634\\u0627\\u0631\\u0647 \\u06a9\\u0631\\u062f\\u0647 \\u0627\\u0633\\u062a. \\u062d\\u0645\\u0644\\u0647 \\u0628\\u0647 \\u0645\\u0648\\u0627\\u0636\\u0639 \\u0622\\u0645\\u0631\\u06cc\\u06a9\\u0627 \\u062f\\u0631 \\u0639\\u0631\\u0627\\u0642 \\u0648 \\u06cc\\u0627 \\u062d\\u0645\\u0644\\u0647 \\u0633\\u0627\\u06cc\\u0628\\u0631\\u06cc \\u0628\\u0647 \\u062a\\u0627\\u0633\\u06cc\\u0633\\u0627\\u062a\\u06cc \\u062f\\u0631 \\u0627\\u0633\\u0631\\u0627\\u0626\\u06cc\\u0644 \\u0627\\u0632 \\u062c\\u0645\\u0644\\u0647 \\u0627\\u062d\\u062a\\u0645\\u0627\\u0644\\u0627\\u062a \\u0645\\u0637\\u0631\\u062d \\u0634\\u062f\\u0647 \\u062f\\u0631 \\u0627\\u06cc\\u0646 \\u06af\\u0632\\u0627\\u0631\\u0634 \\u0627\\u0633\\u062a.\\n\\n\\u062c\\u0645\\u0647\\u0648\\u0631\\u06cc \\u0627\\u0633\\u0644\\u0627\\u0645\\u06cc \\u0627\\u06cc\\u0631\\u0627\\u0646 \\u067e\\u06cc\\u0634 \\u0627\\u0632 \\u0627\\u06cc\\u0646 \\u0627\\u0642\\u062f\\u0627\\u0645 \\u0628\\u0647 \\u062d\\u0645\\u0644\\u0627\\u062a \\u0633\\u0627\\u06cc\\u0628\\u0631\\u06cc \\u0628\\u0647 \\u0628\\u0631\\u062e\\u06cc \\u0627\\u0632 \\u0645\\u0631\\u0627\\u06a9\\u0632 \\u0648 \\u0627\\u0632 \\u062c\\u0645\\u0644\\u0647 \\u0628\\u0647 \\u06a9\\u0627\\u0632\\u06cc\\u0646\\u0648\\u06cc \\u062f\\u0631 \\u0644\\u0627\\u0633 \\u0648\\u06af\\u0627\\u0633 \\u0648 \\u0634\\u0628\\u06a9\\u0647 \\u0622\\u0628&zwnj;\\u0631\\u0633\\u0627\\u0646\\u06cc \\u062f\\u0631 \\u0627\\u0633\\u0631\\u0627\\u0626\\u06cc\\u0644 \\u0646\\u0645\\u0648\\u062f\\u0647 \\u0628\\u0648\\u062f.\\n\\n\\u062e\\u0628\\u0631\\u0646\\u06af\\u0627\\u0631\\u0627\\u0646 \\u0631\\u0648\\u0632\\u0646\\u0627\\u0645\\u0647 \\u06cc\\u0627\\u062f \\u0634\\u062f\\u0647 \\u0647\\u0645\\u0686\\u0646\\u06cc\\u0646 \\u0628\\u0647  \\u0627\\u062d\\u062a\\u0645\\u0627\\u0644 \\u062a\\u0634\\u062f\\u06cc\\u062f \\u062a\\u0646\\u0634 \\u0628\\u06cc\\u0646 \\u0622\\u0645\\u0631\\u06cc\\u06a9\\u0627 \\u0648 \\u0627\\u06cc\\u0631\\u0627\\u0646 \\u062f\\u0631 \\u0627\\u0631\\u062a\\u0628\\u0627\\u0637 \\u0628\\u0627 \\u062a\\u0627\\u0646\\u06a9\\u0631\\u0647\\u0627\\u06cc \\u062d\\u0627\\u0645\\u0644 \\u0633\\u0648\\u062e\\u062a \\u0627\\u06cc\\u0631\\u0627\\u0646 \\u0628\\u0647 \\u0645\\u0642\\u0635\\u062f \\u0648\\u0646\\u0632\\u0648\\u0626\\u0644\\u0627 \\u0627\\u0634\\u0627\\u0631\\u0647 \\u06a9\\u0631\\u062f\\u0647&zwnj;\\u0627\\u0646\\u062f. \\u067e\\u0633 \\u0627\\u0632 \\u062a\\u062d\\u0648\\u06cc\\u0644 \\u0645\\u062d\\u0645\\u0648\\u0644\\u0647 \\u0646\\u062e\\u0633\\u062a\\u06cc\\u0646 \\u062a\\u0627\\u0646\\u06a9\\u0631 \\u0627\\u06cc\\u0631\\u0627\\u0646 \\u0628\\u0647 \\u0648\\u0646\\u0632\\u0648\\u0626\\u0644\\u0627\\u060c \\u0686\\u0646\\u062f \\u062a\\u0627\\u0646\\u06a9\\u0631 \\u062f\\u06cc\\u06af\\u0631 \\u0627\\u06cc\\u0646 \\u06a9\\u0634\\u0648\\u0631 \\u0628\\u0647 \\u0633\\u0648\\u06cc \\u0648\\u0646\\u0632\\u0648\\u0626\\u0644\\u0627 \\u062f\\u0631 \\u062d\\u0631\\u06a9\\u062a \\u0647\\u0633\\u062a\\u0646\\u062f.\\n<img width=\\\"1\\\" height=\\\"1\\\" alt=\\\"\\\" src=\\\"http://logc279.xiti.com/hit.xiti?s=531599&s2=22&p=per-rss-per-all_volltext-5613-xml-mrss::%D8%AF%D9%88%DB%8C%DA%86%D9%87%20%D9%88%D9%84%D9%87%20%D9%81%D8%A7%D8%B1%D8%B3%DB%8C%3A%3A%D8%AC%D9%87%D8%A7%D9%86::%D9%86%DB%8C%D9%88%DB%8C%D9%88%D8%B1%DA%A9%20%D8%AA%D8%A7%DB%8C%D9%85%D8%B2%3A%20%D8%A7%D9%86%D9%81%D8%AC%D8%A7%D8%B1%20%D8%B4%D8%AF%DB%8C%D8%AF%20%D8%AF%D8%B1%20%D8%AA%D8%A7%D8%B3%DB%8C%D8%B3%D8%A7%D8%AA%20%D8%A7%D8%AA%D9%85%DB%8C%20%D9%86%D8%B7%D9%86%D8%B2%20%D8%A7%D8%B2%20%D9%85%D8%AF%D8%AA%E2%80%8C%D9%87%D8%A7%20%D9%BE%DB%8C%D8%B4%20%D8%B7%D8%B1%D8%A7%D8%AD%DB%8C%20%D8%B4%D8%AF%D9%87%20%D8%A8%D9%88%D8%AF&di=&an=&ac=&x1=1&x2=22&x3=54135651&x4=9998&x5=%D9%86%DB%8C%D9%88%DB%8C%D9%88%D8%B1%DA%A9%20%D8%AA%D8%A7%DB%8C%D9%85%D8%B2%3A%20%D8%A7%D9%86%D9%81%D8%AC%D8%A7%D8%B1%20%D8%B4%D8%AF%DB%8C%D8%AF%20%D8%AF%D8%B1%20%D8%AA%D8%A7%D8%B3%DB%8C%D8%B3%D8%A7%D8%AA%20%D8%A7%D8%AA%D9%85%DB%8C%20%D9%86%D8%B7%D9%86%D8%B2%20%D8%A7%D8%B2%20%D9%85%D8%AF%D8%AA%E2%80%8C%D9%87%D8%A7%20%D9%BE%DB%8C%D8%B4%20%D8%B7%D8%B1%D8%A7%D8%AD%DB%8C%20%D8%B4%D8%AF%D9%87%20%D8%A8%D9%88%D8%AF&x6=1&x7=%2Ffa-ir%2F%D9%86%DB%8C%D9%88%DB%8C%D9%88%D8%B1%DA%A9-%D8%AA%D8%A7%DB%8C%D9%85%D8%B2-%D8%A7%D9%86%D9%81%D8%AC%D8%A7%D8%B1-%D8%B4%D8%AF%DB%8C%D8%AF-%D8%AF%D8%B1-%D8%AA%D8%A7%D8%B3%DB%8C%D8%B3%D8%A7%D8%AA-%D8%A7%D8%AA%D9%85%DB%8C-%D9%86%D8%B7%D9%86%D8%B2-%D8%A7%D8%B2-%D9%85%D8%AF%D8%AA%E2%80%8C%D9%87%D8%A7-%D9%BE%DB%8C%D8%B4-%D8%B7%D8%B1%D8%A7%D8%AD%DB%8C-%D8%B4%D8%AF%D9%87-%D8%A8%D9%88%D8%AF%2Fa-54135651&x8=per-rss-per-all_volltext-5613-xml-mrss&x9=20200711&x10=per-rss-per-all_volltext-5613-xml-mrss::%D8%AF%D9%88%DB%8C%DA%86%D9%87%20%D9%88%D9%84%D9%87%20%D9%81%D8%A7%D8%B1%D8%B3%DB%8C%3A%3A%D8%AC%D9%87%D8%A7%D9%86\\\" />\",\n          \"\\u0641\\u062f\\u0631\\u0627\\u0633\\u06cc\\u0648\\u0646 \\u0641\\u0648\\u062a\\u0628\\u0627\\u0644 \\u062f\\u0631 \\u062f\\u0648\\u0631\\u0627\\u0646 \\u0631\\u0626\\u06cc\\u0633 \\u067e\\u06cc\\u0634\\u06cc\\u0646\\u060c \\u062f\\u0631 \\u0645\\u0642\\u0637\\u0639 \\u0632\\u0645\\u0627\\u0646\\u06cc \\u06a9\\u0648\\u062a\\u0627\\u0647 \\u0628\\u0627 \\u0645\\u0634\\u06a9\\u0644\\u0627\\u062a\\u06cc \\u062f\\u0631 \\u0642\\u0631\\u0627\\u0631\\u062f\\u0627\\u062f\\u0647\\u0627 \\u0628\\u0627 \\u0633\\u0631\\u0645\\u0631\\u0628\\u06cc\\u0627\\u0646 \\u062a\\u06cc\\u0645 \\u0645\\u0644\\u06cc \\u0645\\u0648\\u0627\\u062c\\u0647 \\u0634\\u062f \\u06a9\\u0647 \\u0686\\u06cc\\u0632\\u06cc \\u0641\\u0631\\u0627\\u062a\\u0631 \\u0627\\u0632 \\u06cc\\u06a9 \\u0627\\u0634\\u062a\\u0628\\u0627\\u0647 \\u0639\\u0627\\u062f\\u06cc \\u0645\\u062d\\u0633\\u0648\\u0628 \\u0645\\u06cc\\u200c\\u0634\\u0648\\u062f.\",\n          \"\\u06af\\u0631\\u0648\\u0647 \\u0627\\u0633\\u062a\\u0627\\u0646\\u200c\\u0647\\u0627 \\u0640\\u0640 \\u062a\\u0648\\u0644\\u06cc\\u062a \\u0622\\u0633\\u062a\\u0627\\u0646 \\u0642\\u062f\\u0633 \\u0631\\u0636\\u0648\\u06cc(\\u0639) \\u06af\\u0641\\u062a: \\u0641\\u0631\\u0647\\u0646\\u06af \\u0627\\u0633\\u062a\\u0642\\u0627\\u0645\\u062a \\u0648 \\u067e\\u0627\\u06cc\\u0645\\u0631\\u062f\\u06cc \\u0622\\u0632\\u0627\\u062f\\u06af\\u0627\\u0646 \\u0631\\u0627\\u0647\\u06af\\u0634\\u0627\\u06cc \\u0639\\u0628\\u0648\\u0631 \\u06a9\\u0634\\u0648\\u0631 \\u0627\\u0632 \\u06af\\u0630\\u0631\\u06af\\u0627\\u0647\\u200c\\u0647\\u0627\\u06cc \\u0633\\u062e\\u062a \\u062e\\u0648\\u0627\\u0647\\u062f \\u0628\\u0648\\u062f\\u060c \\u0644\\u0630\\u0627 \\u0647\\u0631\\u0622\\u0646\\u0686\\u0647 \\u062f\\u0631 \\u0627\\u0645\\u06a9\\u0627\\u0646\\u0627\\u062a \\u0622\\u0633\\u062a\\u0627\\u0646 \\u0642\\u062f\\u0633 \\u0628\\u0627\\u0634\\u062f \\u0648\\u0638\\u06cc\\u0641\\u0647 \\u062e\\u0648\\u062f \\u0645\\u06cc\\u200c\\u062f\\u0627\\u0646\\u06cc\\u0645 \\u062f\\u0631 \\u0645\\u0633\\u06cc\\u0631 \\u06af\\u0633\\u062a\\u0631\\u0634 \\u0641\\u0631\\u0647\\u0646\\u06af \\u0622\\u0632\\u0627\\u062f\\u06af\\u0627\\u0646 \\u062f\\u0631 \\u062c\\u0627\\u0645\\u0639\\u0647 \\u0628\\u0647\\u200c\\u06a9\\u0627\\u0631 \\u0628\\u0631\\u06cc\\u0645.\"\n        ],\n        \"semantic_type\": \"\",\n        \"description\": \"\"\n      }\n    },\n    {\n      \"column\": \"image\",\n      \"properties\": {\n        \"dtype\": \"string\",\n        \"num_unique_values\": 10775,\n        \"samples\": [\n          \"https://gdb.rferl.org/A61A8D68-F3C5-48A1-9CA9-C32AE99B314C_w800_h450.jpg\",\n          \"https://newsmedia.tasnimnews.com/Tasnim/Uploaded/Image/1398/10/09/1398100901320026119237414.jpg\",\n          \"https://cdn.isna.ir/d/2018/02/01/4/57631821.jpg\"\n        ],\n        \"semantic_type\": \"\",\n        \"description\": \"\"\n      }\n    },\n    {\n      \"column\": \"site\",\n      \"properties\": {\n        \"dtype\": \"category\",\n        \"num_unique_values\": 4,\n        \"samples\": [\n          \"dw\",\n          \"rf\",\n          \"tasnim\"\n        ],\n        \"semantic_type\": \"\",\n        \"description\": \"\"\n      }\n    },\n    {\n      \"column\": \"link\",\n      \"properties\": {\n        \"dtype\": \"string\",\n        \"num_unique_values\": 13457,\n        \"samples\": [\n          \"https://www.dw.com/fa-ir/\\u0627\\u0633\\u0631\\u0627\\u0626\\u064a\\u0644-\\u062f\\u0648-\\u0645\\u0648\\u0634\\u06a9-\\u0628\\u0627\\u0644\\u0633\\u062a\\u06cc\\u06a9-\\u062a\\u0627\\u0632\\u0647-\\u0622\\u0632\\u0645\\u0627\\u06cc\\u0634-\\u06a9\\u0631\\u062f/a-53665008?maca=per-rss-per-all_vol\",\n          \"https://www.radiofarda.com/a/30660778.html\",\n          \"https://www.isna.ir/news/99051611953/\\u0627\\u0639\\u0644\\u0627\\u0645-\\u0636\\u0648\\u0627\\u0628\\u0637-\\u0628\\u0647\\u062f\\u0627\\u0634\\u062a\\u06cc-\\u0628\\u0631\\u06af\\u0632\\u0627\\u0631\\u06cc-\\u06a9\\u0646\\u06a9\\u0648\\u0631-\\u0627\\u0633\\u062a\\u0642\\u0631\\u0627\\u0631-\\u0646\\u0627\\u0638\\u0631\\u0627\\u0646-\\u0648\\u0632\\u0627\\u0631\\u062a-\\u0628\\u0647\\u062f\\u0627\\u0634\\u062a\"\n        ],\n        \"semantic_type\": \"\",\n        \"description\": \"\"\n      }\n    },\n    {\n      \"column\": \"tags\",\n      \"properties\": {\n        \"dtype\": \"category\",\n        \"num_unique_values\": 101,\n        \"samples\": [\n          \"\\u0627\\u0633\\u062a\\u0627\\u0646 \\u0647\\u0627 > \\u0632\\u0646\\u062c\\u0627\\u0646\",\n          \"\\u0641\\u0631\\u0647\\u0646\\u06af\\u06cc \\u0648 \\u0647\\u0646\\u0631\\u06cc > \\u0633\\u06cc\\u0646\\u0645\\u0627 \\u0648 \\u062a\\u0626\\u0627\\u062a\\u0631\",\n          \"\\u0648\\u0631\\u0632\\u0634\\u06cc > \\u06a9\\u0634\\u062a\\u06cc\\u060c \\u0631\\u0632\\u0645\\u06cc\"\n        ],\n        \"semantic_type\": \"\",\n        \"description\": \"\"\n      }\n    }\n  ]\n}"
            }
          },
          "metadata": {},
          "execution_count": 31
        }
      ]
    },
    {
      "cell_type": "code",
      "source": [
        "df.drop(columns=['Unnamed: 0', 'image', 'link', 'site'], inplace=True)\n",
        "df['text'] = df['title'] + ' ' + df['description'] #Combine title and description\n",
        "df.drop(columns=['title', 'description'], inplace=True)\n",
        "df.dropna(inplace=True) # Remove missing values"
      ],
      "metadata": {
        "id": "dBMiqwP-yVfY"
      },
      "execution_count": 32,
      "outputs": []
    },
    {
      "cell_type": "code",
      "source": [
        "print(df.isnull().sum())\n",
        "print(df['tags'].value_counts())"
      ],
      "metadata": {
        "colab": {
          "base_uri": "https://localhost:8080/"
        },
        "id": "Z_gFwfR4yoJv",
        "outputId": "4a569d3f-2574-4051-8e92-f8784b6aada3"
      },
      "execution_count": 9,
      "outputs": [
        {
          "output_type": "stream",
          "name": "stdout",
          "text": [
            "tags    0\n",
            "text    0\n",
            "dtype: int64\n",
            "tags\n",
            "بایگانی                      1944\n",
            "جهان                         1831\n",
            "ایران                        1304\n",
            "بین الملل                    1047\n",
            "سیاسی                        1003\n",
            "                             ... \n",
            "بین الملل > گزارش و تحلیل       1\n",
            "ورزشی > توپ و تور               1\n",
            "استان ها > اردبیل               1\n",
            "استان ها > یزد                  1\n",
            "استان ها > ایلام                1\n",
            "Name: count, Length: 101, dtype: int64\n"
          ]
        }
      ]
    },
    {
      "cell_type": "markdown",
      "source": [
        "Simplify and remap labels"
      ],
      "metadata": {
        "id": "OxO-WVG85tk7"
      }
    },
    {
      "cell_type": "code",
      "source": [
        "new_label_map = {\n",
        "    'فرهنگ و هنر': 'فرهنگ', 'فرهنگی': 'فرهنگ', 'فرهنگی و هنری': 'فرهنگ',\n",
        "    'اقتصاد': 'اقتصاد', 'اقتصاد ایران': 'اقتصاد', 'اقتصادی': 'اقتصاد', 'بازار': 'اقتصاد',\n",
        "    'ورزشی': 'ورزش', 'ورزش': 'ورزش',\n",
        "    'ایران': 'سیاست', 'ايران': 'سیاست', 'سیاسی': 'سیاست',\n",
        "    'جهان': 'بین‌الملل', 'بین الملل': 'بین‌الملل', 'الشرق الأوسط': 'بین‌الملل',\n",
        "    'اجتماعی': 'اجتماعی', 'شبکه‌های اجتماعی': 'اجتماعی', 'استانها': 'اجتماعی', 'استان‌ها': 'اجتماعی',\n",
        "    'دانش و فناوری': 'تکنولوژی', 'دانش و محیط زیست': 'تکنولوژی', 'علمی و دانشگاهی': 'تکنولوژی',\n",
        "    'آلمان': 'بین‌الملل', 'دویچه وله': 'بین‌الملل', 'دوره‌های زبان آلمانی': 'بین‌الملل', 'آلمانی پیش‌رفته': 'بین‌الملل',\n",
        "    'خبرخوان': 'بایگانی', 'NRS-Import': 'بایگانی', 'عکس': 'بایگانی', 'رسانه‌ها': 'بایگانی',\n",
        "    'گرافیک': 'بایگانی', 'ایسنا+': 'بایگانی', 'گوناگون': 'بایگانی', 'ویدئو': 'بایگانی', 'دیدگاه': 'بایگانی',\n",
        "    'Community D': 'بایگانی'\n",
        "}\n",
        "\n",
        "def simplify_label(label):\n",
        "    return label.split('>')[0].strip()\n",
        "\n",
        "def remap_label(label):\n",
        "    return new_label_map.get(label, 'بایگانی')\n",
        "\n",
        "df['tags'] = df['tags'].apply(simplify_label).apply(remap_label)"
      ],
      "metadata": {
        "id": "ugxG5Ur0yxWs"
      },
      "execution_count": 33,
      "outputs": []
    },
    {
      "cell_type": "markdown",
      "source": [
        "Split into main (non-baygani) and baygani datasets"
      ],
      "metadata": {
        "id": "Ge_LbELM519R"
      }
    },
    {
      "cell_type": "code",
      "source": [
        "df_main = df[df['tags'] != 'بایگانی'].copy()\n",
        "df_baygani = df[df['tags'] == 'بایگانی'].copy()"
      ],
      "metadata": {
        "id": "in5Fzlq_52yh"
      },
      "execution_count": 34,
      "outputs": []
    },
    {
      "cell_type": "markdown",
      "source": [
        "Text preprocessing: normalization, tokenization, stopword removal, lemmatization"
      ],
      "metadata": {
        "id": "3tIivZLR585u"
      }
    },
    {
      "cell_type": "code",
      "source": [
        "normalizer = Normalizer()\n",
        "lemmatizer = Lemmatizer()\n",
        "stopwords = set(stopwords_list())\n",
        "custom_stopwords = {'ایران', 'کشور', 'تهران', 'گزارش', 'خبر', 'امروز', 'دیروز'}\n",
        "stopwords.update(custom_stopwords)\n",
        "\n",
        "def clean_text(text):\n",
        "    text = normalizer.normalize(text)\n",
        "    text = re.sub(r'<[^>]+>|http\\S+|www\\S+|[A-Za-z0-9%_=/<>:\";!?()\\[\\]{}|@#$^&*~`+\\\\\\-]|[^\\u0600-\\u06FF\\s]', ' ', text)\n",
        "    text = re.sub(r'\\s+', ' ', text).strip()\n",
        "    tokens = word_tokenize(text)\n",
        "    tokens = [lemmatizer.lemmatize(word) for word in tokens if word not in stopwords]\n",
        "    return ' '.join(tokens)\n",
        "\n",
        "df_main['text_clean'] = df_main['text'].apply(clean_text)\n",
        "df_baygani['text_clean'] = df_baygani['text'].apply(clean_text)"
      ],
      "metadata": {
        "id": "ivtirLDnzEdd"
      },
      "execution_count": 35,
      "outputs": []
    },
    {
      "cell_type": "markdown",
      "source": [
        "Initial model to reclassify baygani samples"
      ],
      "metadata": {
        "id": "GDB5Z7eP6K41"
      }
    },
    {
      "cell_type": "code",
      "source": [
        "vectorizer = TfidfVectorizer(max_features=5000, ngram_range=(1, 2), min_df=2)\n",
        "X_main = vectorizer.fit_transform(df_main['text_clean'])\n",
        "y_main = df_main['tags']\n",
        "X_train, X_test, y_train, y_test = train_test_split(X_main, y_main, test_size=0.2, random_state=42, stratify=y_main)\n",
        "svc = LinearSVC(class_weight='balanced', max_iter=10000, C=1.0, random_state=42)\n",
        "svc.fit(X_train, y_train)\n",
        "print(\"Initial Model Performance:\\n\", classification_report(y_test, svc.predict(X_test)))"
      ],
      "metadata": {
        "colab": {
          "base_uri": "https://localhost:8080/"
        },
        "id": "9UZkcLSc1KHT",
        "outputId": "b7eed032-7db4-4b47-ecd9-a62536e88d08"
      },
      "execution_count": 36,
      "outputs": [
        {
          "output_type": "stream",
          "name": "stdout",
          "text": [
            "Initial Model Performance:\n",
            "               precision    recall  f1-score   support\n",
            "\n",
            "     اجتماعی       0.87      0.85      0.86       351\n",
            "      اقتصاد       0.76      0.90      0.82       201\n",
            "   بین‌الملل       0.89      0.90      0.89       661\n",
            "    تکنولوژی       0.73      0.79      0.76        80\n",
            "       سیاست       0.90      0.86      0.88       860\n",
            "       فرهنگ       0.82      0.84      0.83        67\n",
            "        ورزش       0.86      0.94      0.90        32\n",
            "\n",
            "    accuracy                           0.87      2252\n",
            "   macro avg       0.83      0.87      0.85      2252\n",
            "weighted avg       0.87      0.87      0.87      2252\n",
            "\n"
          ]
        }
      ]
    },
    {
      "cell_type": "markdown",
      "source": [
        "Reclassify baygani samples"
      ],
      "metadata": {
        "id": "mj-XqpI96Qze"
      }
    },
    {
      "cell_type": "code",
      "source": [
        "X_baygani = vectorizer.transform(df_baygani['text_clean'])\n",
        "df_baygani['tags'] = svc.predict(X_baygani)"
      ],
      "metadata": {
        "id": "mDVwUArH6Tku"
      },
      "execution_count": 37,
      "outputs": []
    },
    {
      "cell_type": "markdown",
      "source": [
        "Combine datasets"
      ],
      "metadata": {
        "id": "gQFu2ENh6dlp"
      }
    },
    {
      "cell_type": "code",
      "source": [
        "df_final = pd.concat([df_main, df_baygani], ignore_index=True)\n",
        "df_final.to_csv(\"news_dataset_with_reclassified_baygani.csv\", index=False)\n",
        "print(\"Final Dataset Shape:\", df_final.shape)\n",
        "print(\"Label Distribution:\\n\", df_final['tags'].value_counts())"
      ],
      "metadata": {
        "colab": {
          "base_uri": "https://localhost:8080/"
        },
        "id": "Sr9bQFOc6jLz",
        "outputId": "6a213a98-9d0e-44e3-d4c9-fc47dbeb00de"
      },
      "execution_count": 38,
      "outputs": [
        {
          "output_type": "stream",
          "name": "stdout",
          "text": [
            "Final Dataset Shape: (13455, 3)\n",
            "Label Distribution:\n",
            " tags\n",
            "سیاست        4853\n",
            "بین‌الملل    4139\n",
            "اجتماعی      2129\n",
            "اقتصاد       1292\n",
            "تکنولوژی      441\n",
            "فرهنگ         426\n",
            "ورزش          175\n",
            "Name: count, dtype: int64\n"
          ]
        }
      ]
    },
    {
      "cell_type": "markdown",
      "source": [
        " Final vectorization"
      ],
      "metadata": {
        "id": "fjseryPk6tA_"
      }
    },
    {
      "cell_type": "code",
      "source": [
        "vectorizer = TfidfVectorizer(max_features=5000, ngram_range=(1, 2), min_df=2, max_df=0.85)\n",
        "X = vectorizer.fit_transform(df_final['text_clean'])\n",
        "y = df_final['tags']"
      ],
      "metadata": {
        "id": "OtGvk8B16ue4"
      },
      "execution_count": 39,
      "outputs": []
    },
    {
      "cell_type": "markdown",
      "source": [
        "Balance classes with SMOTE"
      ],
      "metadata": {
        "id": "e_tMVgQT6v7x"
      }
    },
    {
      "cell_type": "code",
      "source": [
        "class_counts = y.value_counts()\n",
        "minority_classes = class_counts[class_counts < 2000].index\n",
        "sampling_strategy = {cls: 2000 for cls in minority_classes}\n",
        "smote = SMOTE(sampling_strategy=sampling_strategy, random_state=42)\n",
        "X_resampled, y_resampled = smote.fit_resample(X, y)\n",
        "print(\"Shape after SMOTE:\", X_resampled.shape)\n",
        "print(\"Resampled Label Distribution:\\n\", pd.Series(y_resampled).value_counts())"
      ],
      "metadata": {
        "colab": {
          "base_uri": "https://localhost:8080/"
        },
        "id": "26G4ZzWV6z4r",
        "outputId": "29a6daea-8db9-4704-b63e-49faa588df11"
      },
      "execution_count": 45,
      "outputs": [
        {
          "output_type": "stream",
          "name": "stdout",
          "text": [
            "Shape after SMOTE: (19121, 5000)\n",
            "Resampled Label Distribution:\n",
            " tags\n",
            "سیاست        4853\n",
            "بین‌الملل    4139\n",
            "اجتماعی      2129\n",
            "اقتصاد       2000\n",
            "فرهنگ        2000\n",
            "ورزش         2000\n",
            "تکنولوژی     2000\n",
            "Name: count, dtype: int64\n"
          ]
        }
      ]
    },
    {
      "cell_type": "markdown",
      "source": [
        "Train-test split"
      ],
      "metadata": {
        "id": "Umq_Pr257GLM"
      }
    },
    {
      "cell_type": "code",
      "source": [
        "X_train, X_test, y_train, y_test = train_test_split(X_resampled, y_resampled, test_size=0.2, random_state=42, stratify=y_resampled)"
      ],
      "metadata": {
        "id": "qVBkySUU7CvC"
      },
      "execution_count": 46,
      "outputs": []
    },
    {
      "cell_type": "markdown",
      "source": [
        "Model training with hyperparameter tuning"
      ],
      "metadata": {
        "id": "VZECp4Ru7NFR"
      }
    },
    {
      "cell_type": "code",
      "source": [
        "param_grid_svc = {'C': [0.8, 1, 1.2]}\n",
        "grid_svc = GridSearchCV(LinearSVC(class_weight='balanced', max_iter=10000, random_state=42), param_grid_svc, cv=5, scoring='accuracy', n_jobs=-1)\n",
        "grid_svc.fit(X_train, y_train)\n",
        "best_model = grid_svc.best_estimator_\n",
        "print(\"Best LinearSVC Parameters:\", grid_svc.best_params_)\n",
        "print(\"Best LinearSVC CV Score:\", grid_svc.best_score_)"
      ],
      "metadata": {
        "colab": {
          "base_uri": "https://localhost:8080/"
        },
        "id": "EZuzHwEh7QXS",
        "outputId": "9670730e-f06a-48e5-f497-42ed91ea55e0"
      },
      "execution_count": 47,
      "outputs": [
        {
          "output_type": "stream",
          "name": "stdout",
          "text": [
            "Best LinearSVC Parameters: {'C': 1.2}\n",
            "Best LinearSVC CV Score: 0.91095731656507\n"
          ]
        }
      ]
    },
    {
      "cell_type": "markdown",
      "source": [
        "Evaluation"
      ],
      "metadata": {
        "id": "eCzP4hz37T59"
      }
    },
    {
      "cell_type": "code",
      "source": [
        "y_pred = best_model.predict(X_test)\n",
        "report = classification_report(y_test, y_pred, output_dict=True)\n",
        "print(\"\\nClassification Report:\\n\", pd.DataFrame(report).transpose())"
      ],
      "metadata": {
        "colab": {
          "base_uri": "https://localhost:8080/"
        },
        "id": "LWzHRQof7U9B",
        "outputId": "529bf3a1-0629-4341-a173-c037d8255d7d"
      },
      "execution_count": 48,
      "outputs": [
        {
          "output_type": "stream",
          "name": "stdout",
          "text": [
            "\n",
            "Classification Report:\n",
            "               precision    recall  f1-score      support\n",
            "اجتماعی        0.882952  0.814554  0.847375   426.000000\n",
            "اقتصاد         0.854839  0.927500  0.889688   400.000000\n",
            "بین‌الملل      0.906404  0.888889  0.897561   828.000000\n",
            "تکنولوژی       0.914153  0.985000  0.948255   400.000000\n",
            "سیاست          0.918542  0.882595  0.900210   971.000000\n",
            "فرهنگ          0.954436  0.995000  0.974296   400.000000\n",
            "ورزش           0.987654  1.000000  0.993789   400.000000\n",
            "accuracy       0.915817  0.915817  0.915817     0.915817\n",
            "macro avg      0.916997  0.927648  0.921596  3825.000000\n",
            "weighted avg   0.915811  0.915817  0.915210  3825.000000\n"
          ]
        }
      ]
    },
    {
      "cell_type": "markdown",
      "source": [
        "Confusion matrix"
      ],
      "metadata": {
        "id": "UF1IFKkY7ZH4"
      }
    },
    {
      "cell_type": "code",
      "source": [
        "labels = sorted(df_final['tags'].unique())\n",
        "cm = confusion_matrix(y_test, y_pred, labels=labels)\n",
        "plt.figure(figsize=(12, 10))\n",
        "sns.heatmap(cm, annot=True, fmt='d', cmap='Blues', xticklabels=labels, yticklabels=labels)\n",
        "plt.title('Confusion Matrix')\n",
        "plt.xlabel('Predicted')\n",
        "plt.ylabel('True')\n",
        "plt.xticks(rotation=45, ha='right')\n",
        "plt.yticks(rotation=0)\n",
        "plt.tight_layout()\n",
        "plt.savefig('confusion_matrix.png')\n",
        "plt.show()"
      ],
      "metadata": {
        "colab": {
          "base_uri": "https://localhost:8080/",
          "height": 1000
        },
        "id": "KsIB7O407a_I",
        "outputId": "d7635585-5b67-4b5c-8591-5fcb7c041918"
      },
      "execution_count": 49,
      "outputs": [
        {
          "output_type": "display_data",
          "data": {
            "text/plain": [
              "<Figure size 1200x1000 with 2 Axes>"
            ],
            "image/png": "[encoded data removed]"
          },
          "metadata": {}
        }
      ]
    },
    {
      "cell_type": "markdown",
      "source": [
        " F1-scores per class"
      ],
      "metadata": {
        "id": "oD5mdGLb70YO"
      }
    },
    {
      "cell_type": "code",
      "source": [
        "f1_scores = {k: v['f1-score'] for k, v in report.items() if k in labels}\n",
        "plt.figure(figsize=(12, 6))\n",
        "sns.barplot(x=list(f1_scores.keys()), y=list(f1_scores.values()), hue=list(f1_scores.keys()), palette='viridis', legend=False)\n",
        "plt.title('F1-Score per Class')\n",
        "plt.xlabel('Class Labels')\n",
        "plt.ylabel('F1-Score')\n",
        "plt.xticks(rotation=45, ha='right')\n",
        "plt.tight_layout()\n",
        "plt.savefig('f1_scores.png')\n",
        "plt.show()"
      ],
      "metadata": {
        "colab": {
          "base_uri": "https://localhost:8080/",
          "height": 607
        },
        "id": "mTwBbkVE7zze",
        "outputId": "b7dbe50a-928a-4f40-d427-4f9fb7f0ec7e"
      },
      "execution_count": 51,
      "outputs": [
        {
          "output_type": "display_data",
          "data": {
            "text/plain": [
              "<Figure size 1200x600 with 1 Axes>"
            ],
            "image/png": "[encoded data removed]"
          },
          "metadata": {}
        }
      ]
    },
    {
      "cell_type": "markdown",
      "source": [
        "Print key metrics"
      ],
      "metadata": {
        "id": "RWqLc5zG8BHA"
      }
    },
    {
      "cell_type": "code",
      "source": [
        "print(f\"\\nAccuracy: {report['accuracy']:.2f}\")\n",
        "print(f\"Macro Avg F1-score: {report['macro avg']['f1-score']:.2f}\")\n",
        "print(f\"Weighted Avg F1-score: {report['weighted avg']['f1-score']:.2f}\")"
      ],
      "metadata": {
        "colab": {
          "base_uri": "https://localhost:8080/"
        },
        "id": "1DrDoCHD1cQ-",
        "outputId": "b71fb53a-d9bb-4fc5-bcbf-6bdd4e95fac3"
      },
      "execution_count": 52,
      "outputs": [
        {
          "output_type": "stream",
          "name": "stdout",
          "text": [
            "\n",
            "Accuracy: 0.92\n",
            "Macro Avg F1-score: 0.92\n",
            "Weighted Avg F1-score: 0.92\n"
          ]
        }
      ]
    }
  ]
}